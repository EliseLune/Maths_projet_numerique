{
 "cells": [
  {
   "cell_type": "markdown",
   "metadata": {},
   "source": [
    "# Projet de Mathématiques - Courbes de niveau\n",
    "### Jia FU & Elise LEI"
   ]
  },
  {
   "cell_type": "markdown",
   "metadata": {},
   "source": [
    "### Importations et implémentations préliminaires"
   ]
  },
  {
   "cell_type": "code",
   "execution_count": null,
   "metadata": {},
   "outputs": [],
   "source": [
    "# Autograd & Numpy\n",
    "import autograd\n",
    "import autograd.numpy as np\n",
    "\n",
    "# Pandas\n",
    "import pandas as pd\n",
    "\n",
    "# Matplotlib\n",
    "import matplotlib as mpl\n",
    "import matplotlib.pyplot as plt\n",
    "plt.rcParams['figure.figsize'] = [10, 10] # [width, height] (inches). \n",
    "%matplotlib inline\n",
    "\n",
    "# Jupyter & IPython\n",
    "from IPython.display import display"
   ]
  },
  {
   "cell_type": "code",
   "execution_count": null,
   "metadata": {},
   "outputs": [],
   "source": [
    "#fonctions utiles\n",
    "def grad(f):\n",
    "    g = autograd.grad\n",
    "    def grad_f(x, y):\n",
    "        return np.array([g(f, 0)(x, y), g(f, 1)(x, y)])\n",
    "    return grad_f\n",
    "\n",
    "def J(f):\n",
    "    j = autograd.jacobian\n",
    "    def J_f(x, y):\n",
    "        return np.array([j(f, 0)(x, y), j(f, 1)(x, y)]).T\n",
    "    return J_f"
   ]
  },
  {
   "cell_type": "code",
   "execution_count": null,
   "metadata": {},
   "outputs": [],
   "source": [
    "#fonctions de références\n",
    "def f1(x1, x2):\n",
    "    x1 = np.array(x1)\n",
    "    x2 = np.array(x2)\n",
    "    return 3.0 * x1 * x1 - 2.0 * x1 * x2 + 3.0 * x2 * x2 \n",
    "\n",
    "def f2(x1, x2):\n",
    "    \"\"\"fonction de Rosenbrock\"\"\"\n",
    "    return (x1 - 1)**2 + (x1 - x2**2)**2\n",
    "\n",
    "def f3(x, y):\n",
    "    return np.sin(x + y) - np.cos(x * y) - 1 + 0.001 * (x * x + y * y)"
   ]
  },
  {
   "cell_type": "markdown",
   "metadata": {},
   "source": [
    "## Question 1\n",
    "> Soit $c \\in \\mathbb{R}$.\n",
    "> On suppose que la fonction $f:\\mathbb{R}^2 \\to \\mathbb{R}$ est continue et vérifie $f(x_1, x_2) \\to +\\infty$ quand $\\|(x_1,x_2)\\| \\to +\\infty$.\n",
    "> Que peut-on dire de l'ensemble de niveau $c$ de $f$ ?\n",
    "\n",
    "On appelle $ \\mathcal{C} = \\{ (x,y) \\in \\mathbb{R}^{2}, f(x,y)=c \\} = f^{-1}(\\{ c \\}) $.  \n",
    "Comme le singleton $ \\{ c\\} $ est un fermé de $\\mathbb{R}$, par continuité de $f$, $\\mathcal{C}$ est fermé dans $\\mathbb{R}^{2}$.  \n",
    "\n",
    "De plus, comme $f(x,y) \\to +\\infty$ quand $\\|(x,y)\\| \\to +\\infty$, il existe $A>0$ tel que :\n",
    "$$ \\forall (x,y) \\in \\mathbb{R}^{2}, \\|(x,y)\\| \\geq A \\Rightarrow f(x,y) \\geq c+1 > c$$\n",
    "Comme tous les points $(x,y)$ de $\\mathcal{C}$ vérifient $f(x,y) = c < c+1$, $\\mathcal{C}$ est donc majoré en norme par $A$.  \n",
    "Ainsi, $\\mathcal{C}$ est borné.\n",
    "\n",
    "Comme $\\mathbb{R}^{2}$ est de dimension finie, on obtient que $\\mathcal{C}$ est __compact__."
   ]
  },
  {
   "cell_type": "code",
   "execution_count": null,
   "metadata": {},
   "outputs": [],
   "source": [
    "# Exemple\n",
    "\n",
    "from mpl_toolkits.mplot3d import Axes3D\n",
    "\n",
    "fig = plt.figure()\n",
    "ax = Axes3D(fig)  # 生成一个3d对象\n",
    "X = np.arange(-1000,1000, 10)\n",
    "Y = np.arange(-1000,1000, 10)\n",
    "X, Y = np.meshgrid(X, Y)  # 对X,Y数组进行扩充\n",
    "Z = X ** 2 + Y ** 2\n",
    "ax.set_xlabel('X label', color='r')  # 设置x坐标\n",
    "ax.set_ylabel('Y label', color='r')\n",
    "ax.set_zlabel('Z label')\n",
    "ax.plot_surface(X, Y, Z, rstride=1, cstride=1, cmap=plt.cm.hot)  # 生成一个曲面\n",
    "#ax.contourf(X,Y,Z,offset=2,alpha=0.75,cmap=plt.cm.hot)#为等高线填充颜色\n",
    "ax.contour(X, Y, Z, offset=400000, colors='black')  # 生成等高线 offset参数是等高线所处的位置\n",
    "\n",
    "fig = plt.figure()\n",
    "\n",
    "bx = fig.add_subplot(111)  # 再生成一个字图\n",
    "\n",
    "C = bx.contour(X, Y, Z,[500000,550000,560000,570000,580000,590000,600000,650000,700000])  # 如果想要在等高线上标出相应的值，需要重新生成一个对象，不能是3d对象\n",
    "bx.clabel(C, inline=True, fontsize=10)  # 在等高线上标出对应的z值\n",
    "ax.set_zlim(0, 2000000)  # 设置z的范围\n",
    "#plt.show() "
   ]
  },
  {
   "cell_type": "markdown",
   "metadata": {},
   "source": [
    "## Question 2\n",
    "> Comment interpréter géométriquement le terme $p(x_1,x_2)$ ?  \n",
    "\n",
    "On sait que le gradient $\\nabla f$ ne s'annule pas dans un voisinage du point $x_0 = (x_{10}, x_{20}) \\in \\mathbb{R}^2$, et $ p(x_1, x_2) = \\frac{\\partial_2 f(x_0)}{\\|\\nabla f(x_0)\\|} (x_1 - x_{10}) -\n",
    "\\frac{\\partial_1 f(x_0)}{\\|\\nabla f(x_0)\\|} (x_2 - x_{20}) $\n",
    "\n",
    "\n",
    "Le gradient de f au point $x_0 = (x_{10}, x_{20}) \\in \\mathbb{R}^2$ est $\\nabla f(x_{0}) = \\begin{pmatrix} \\partial_1 f(x_{0}) \\\\ \\partial_2 f(x_{0}) \\end{pmatrix}$.  \n",
    "Un vecteur orthogonal à $\\nabla f$ est : $\\begin{pmatrix} \\partial_2 f(x_{0}) \\\\ -\\partial_1 f(x_{0}) \\end{pmatrix}$. On le prend alors unitaire : $u = \\frac{1}{\\| \\nabla f(x_{0}) \\|} \\begin{pmatrix} \\partial_2 f(x_{0}) \\\\ -\\partial_1 f(x_{0}) \\end{pmatrix} $.  \n",
    "Il s'agit par ailleurs d'un vecteur tangent à la courbe de $f$.\n",
    "\n",
    "On remarque ainsi que $p(x)$ représente le __produit scalaire__ entre $u$ et $ \\Delta x = x-x_{0} = \\begin{pmatrix} x_{1} - x_{10} \\\\ x_{2} - x_{20} \\end{pmatrix}$.  \n",
    "On peut aussi interpréter cette grandeur comme la distance séparant $x_{0}$ et le projeté de $x$ sur la droite tangente à la courbe formée par la ligne de niveau."
   ]
  },
  {
   "cell_type": "markdown",
   "metadata": {},
   "source": [
    "## Question 3\n",
    "\n",
    "> Montrer que dans un voisinage ouvert de $x_0$, on peut paramétriser l'ensemble de niveau $c:=f(x_0)$ au moyen de $p(x_1,x_2),$ c'est-à-dire qu'il existe un $\\varepsilon > 0$ et une fonction (continûment différentiable) $\\gamma :\\left]-\\varepsilon,\\varepsilon \\right[ \\to \\mathbb{R}^2$ tels que dans un voisinage ouvert de $x_0,$ $f(x_1,x_2) = c$ si et seulement si $(x_1, x_2) = \\gamma(t)$ où $t = p(x_1, x_2)$.\n",
    "\n",
    "On pose :\n",
    "$$g : (x, t) \\in \\mathbb{R}^{2} \\times \\mathbb{R} \\longmapsto (f(x) - c, t) \\in \\mathbb{R}^{2} \\text{ où } x = (x_{1},x_{2})$$\n",
    "\n",
    "Alors, $g(x_{0},0) = (0,0)$.\n",
    "\n",
    "On considère que $t=p(x)$.\n",
    "\n",
    "On a : $p'(x) = \\frac{1}{\\|\\nabla f(x_{0})\\|} \\begin{pmatrix} \\partial_{2} f(x_{0}) \\\\ -\\partial_{1} f(x_{0}) \\end{pmatrix}$.  \n",
    "Alors, pour $x\\in \\mathbb{R}^{2}$, $\\partial_{x} g(x, p(x)) = \\frac{1}{\\|\\nabla f(x_{0})\\|} \\begin{pmatrix} \\partial_{1} f(x) & \\partial_{2} f(x_{0}) \\\\ \\partial_{2} f(x) & -\\partial_{1} f(x_{0}) \\end{pmatrix}$.  \n",
    "Donc, $g$ est continûment différentiable car $f$ et $p$ le sont.\n",
    "\n",
    "De plus, $det(\\partial_{x}g(x_{0}))= -\\|\\nabla f(x_{0})\\| \\neq 0$ par définition de $x_{0}$.  \n",
    "Donc, par continuité du déterminant de $GL_{2}(\\mathbb{R})$ dans $\\mathcal{M}_{2}(\\mathbb{R}) = \\mathbb{R}^{2\\times 2}$, il existe $U$ un voisinage de $x_{0}$ et $\\mu >0$ tels que $\\forall x \\in U$, $\\forall t \\in ]-\\mu, \\mu[$, $\\partial_{x}g(x_{0})$ est inversible.\n",
    "\n",
    "D'après le théorème des fonctions implicites, il existe $V$ un voisinage ouvert de $x_{0}$ inclus dans $U$, $\\varepsilon \\in ]0, \\mu]$, et une unique fonction continûment différentiable $\\gamma : ]-\\varepsilon, \\varepsilon[ \\longrightarrow \\mathbb{R}^{2}$ tels que :\n",
    "\\begin{align*}\n",
    "\\forall x \\in V,\\; \\forall t \\in ]-\\varepsilon, \\varepsilon[, \\; g(x,t) = 0 &\\Leftrightarrow f(x)=c \\\\\n",
    "&\\Leftrightarrow \\gamma (t) = x\n",
    "\\end{align*}\n",
    "La fonction $\\gamma$ convient."
   ]
  },
  {
   "cell_type": "markdown",
   "metadata": {},
   "source": [
    "## Question 4\n",
    "> Montrer que pour tout $t \\in \\left]-\\varepsilon, \\varepsilon \\right[$ :\n",
    ">  - le vecteur $\\gamma'(t)$ est non nul (il fournit donc une tangente au chemin $\\gamma$),\n",
    ">  - est orthogonal à $\\nabla f(\\gamma(t))$.\n",
    "\n",
    "On a $\\partial_{x} g(x,p(x)) = \\frac{1}{\\|\\nabla f(x_{0})\\|}\n",
    "\\begin{pmatrix} \\partial_{1} f(x) & \\partial_{2} f(x_{0}) \\\\\n",
    "\\partial_{2} f(x) & -\\partial_{1} f(x_{0}) \\end{pmatrix}$ \n",
    "et $\\partial_{t} g(x,t) = \\begin{pmatrix} 0 \\\\ 1 \\end{pmatrix}$.\n",
    "\n",
    "Donc, on obtient, pour tout $t \\in ]-\\varepsilon, \\varepsilon[$, avec $x=\\gamma (t)$,\n",
    "\\begin{align*}\n",
    "\\gamma '(t) &= - (\\partial_{x} g(x,t))^{-1} \\cdot \\partial_{t} g(x,t) \\\\\n",
    "&= - \\|\\nabla f(x_{0})\\| \\cdot \\frac{-1}{\\|\\nabla f(x_{0})\\|^{2}} \\begin{pmatrix} -\\partial_{1}f(x) & -\\partial_{2}f(x) \\\\ -\\partial_{2}f(x) & \\partial_{1}f(x) \\end{pmatrix} \\cdot \\begin{pmatrix} 0 \\\\ 1 \\end{pmatrix} \\\\\n",
    "&= - \\frac{1}{\\|\\nabla f(x_{0})\\|} \\begin{pmatrix} \\partial_{2} f(x) \\\\ -\\partial_{1}f(x) \\end{pmatrix}\n",
    "\\end{align*}\n",
    "\n",
    "$\\gamma '(t)$ est donc un __vecteur orthogonal__ à $\\nabla f(\\gamma (t)) = \\nabla f(x) = \\begin{pmatrix} \\partial_{1}  f(x) \\\\  \\partial_{2} f(x) \\end{pmatrix}$ $\\big($en effet, $ \\left< \\gamma '(t), \\nabla f(\\gamma (t)) \\right> = 0$ $\\big)$,  \n",
    "et comme celui-ci __ne s'annule pas__ pour tout $t\\in ]-\\varepsilon, \\varepsilon[$ d'après la question 3, alors $\\gamma '(t)$ non plus."
   ]
  },
  {
   "cell_type": "markdown",
   "metadata": {},
   "source": [
    "## Question 5\n",
    "\n",
    "> L'application à laquelle nous destinons la fonction `Newton` demande-t-elle une grande précision ?  \n",
    "> Choisir une valeur de `eps` qui semble raisonnable et justifier l'ordre de grandeur choisi.\n",
    "\n",
    "On souhaite obtenir un point qui soit proche du point de départ et sur la ligne de niveau $c$. Pour cela, il n'y a __pas besoin d'une trop grande précision__, surtout qu'il s'agit de minimiser le temps pris par `Newton` à s'exécuter.\n",
    "\n",
    "Ainsi, on choisit ici $\\varepsilon = 10^{-3}$, car même avec un $\\varepsilon$ plus petit, on obtient des résultats très similaires, déjà largement satisfaisants."
   ]
  },
  {
   "cell_type": "code",
   "execution_count": null,
   "metadata": {},
   "outputs": [],
   "source": [
    "N = 100\n",
    "eps = 10**(-3)"
   ]
  },
  {
   "cell_type": "markdown",
   "metadata": {},
   "source": [
    "## Tâche 1\n",
    "\n",
    "> Implémenter la fonction `Newton` en complétant le canevas."
   ]
  },
  {
   "cell_type": "markdown",
   "metadata": {},
   "source": [
    "On implémente la fonction $p$ décrite précédemment, et une fonction `transfo` permettant de passer d'une fonction $f : \\mathbb{R}^{2} \\longrightarrow \\mathbb{R}$ à une fonction $F : \\mathbb{R}^{2} \\longrightarrow \\mathbb{R}^{2}$ (grâce à $p$, pour l'implémentation de la fonction `Newton`)"
   ]
  },
  {
   "cell_type": "code",
   "execution_count": null,
   "metadata": {},
   "outputs": [],
   "source": [
    "def p(f, x, y, x0, y0):\n",
    "    \"\"\"renvoie le produit scalaire entre la tangente à la courbe (ou la normale au gradient) et le vecteur (x-x0,y-y0)\"\"\"\n",
    "    grad_f = grad(f)\n",
    "    return (grad_f(x0,y0)[1]*(x-x0) - grad_f(x0,y0)[0]*(y-y0)) / np.linalg.norm(grad_f(x0,y0))\n",
    "\n",
    "def transfo(f, c, x_ref, y_ref):\n",
    "    \"\"\"renvoie une fonction de R² dans R² à partir de f:R²->R, en ajoutant en second terme la norme au carré de X-X0\"\"\"\n",
    "    def F(x, y) :\n",
    "        return np.array([f(x,y)-c, p(f,x,y,x_ref,y_ref)])\n",
    "    return F"
   ]
  },
  {
   "cell_type": "markdown",
   "metadata": {},
   "source": [
    "Puis on implémente `Newton`, où l'on obtient le point prochain en résolvant un système de Cramer."
   ]
  },
  {
   "cell_type": "code",
   "execution_count": null,
   "metadata": {},
   "outputs": [],
   "source": [
    "def Newton(F, x0, y0, eps=eps, N=N):\n",
    "    \"\"\"F est une fonction de R² dans R², on cherche (x,y) tels que F(x,y) = (0,0) en partant du point (x0,y0).\n",
    "    La fonction s'arrête quand la suite de points converge, en moins de N étapes\"\"\"\n",
    "    jac_F = J(F)\n",
    "    for i in range(N):\n",
    "        X0 = np.array([x0,y0])\n",
    "        X = np.linalg.solve(jac_F(x0,y0), jac_F(x0,y0).dot(X0)-F(x0,y0))\n",
    "        if np.linalg.norm(X-X0) <= eps:\n",
    "            return X[0], X[1]\n",
    "        x0, y0 = X[0], X[1]\n",
    "    raise ValueError(f\"no convergence in {N} steps.\")"
   ]
  },
  {
   "cell_type": "markdown",
   "metadata": {},
   "source": [
    "## Tâche 2\n",
    "\n",
    "> Testez votre implémentation de la fonction `Newton` !  \n",
    "> On suggère par exemple de l'utiliser pour chercher un point $(x_1, x_2)$ de la ligne de niveau $0.8$ de $f_1$ (cf. Exemples de référence) qui vérifie en outre $x_1 = x_2$ en utilisant le point initial $(0.8, 0.8)$.  \n",
    "> Puis de faire varier le point initial, la contrainte supplémentaire, etc. et de représenter graphiquement les résultats."
   ]
  },
  {
   "cell_type": "markdown",
   "metadata": {},
   "source": [
    "On fait un premier appel :"
   ]
  },
  {
   "cell_type": "code",
   "execution_count": null,
   "metadata": {},
   "outputs": [],
   "source": [
    "x0, y0 = 0.8, 0.8\n",
    "c = 0.8\n",
    "F1 = transfo(f1, c, x0, y0)\n",
    "print(f\"La méthode de Newton appliquée à la fonction f1 à partir de ({x0},{y0}) donne : \\n {Newton(F1, 0.8, 0.8)}\")"
   ]
  },
  {
   "cell_type": "markdown",
   "metadata": {},
   "source": [
    "Puis, on teste pour différents points de départs, et différentes valeurs de `eps`. On représente les points obtenus sur un graphe : un type de `marker` désigne un point de départ donné, chaque couleur correspond à une valeur de `eps.`"
   ]
  },
  {
   "cell_type": "code",
   "execution_count": null,
   "metadata": {
    "tags": []
   },
   "outputs": [],
   "source": [
    "# Implémentation\n",
    "pts_depart = np.array([[0.,0.75], [0.8,0.8], [0.75,0.], [-0.75, 0.], [-0.8,-0.8], [0., -0.75]])\n",
    "c = 0.8\n",
    "tab_eps = [10**i for i in range(0,-6,-1)]\n",
    "\n",
    "pts_resu = np.empty((len(pts_depart), 2, len(tab_eps)))\n",
    "for i, X0 in enumerate(pts_depart):\n",
    "    for j, eps in enumerate(tab_eps) :\n",
    "        F1 = transfo(f1, c, X0[0], X0[1])\n",
    "        pts_resu[i, :, j] = np.array(Newton(F1, X0[0], X0[1], eps))"
   ]
  },
  {
   "cell_type": "code",
   "execution_count": null,
   "metadata": {
    "tags": []
   },
   "outputs": [],
   "source": [
    "# Affichage global\n",
    "pts_forms = ['.', 'x', 's', '^', 'v', '*']\n",
    "couleurs = ['r', 'y', 'g', 'c', 'b', 'm']\n",
    "pts_size = [(i+2)**3 for i in range(len(pts_depart),0,-1)]\n",
    "\n",
    "fig = plt.figure(figsize=(8,8))\n",
    "plt.axis('equal')\n",
    "plt.xlabel(\"x\")\n",
    "plt.ylabel('y')\n",
    "plt.title(\"Points obtenus par méthode de Newton \\n pour différents points de départ, et différentes valeurs de eps\")\n",
    "for i in range(len(pts_depart)):\n",
    "    plt.scatter(pts_resu[i,0], pts_resu[i,1], c=couleurs, marker=pts_forms[i], s=pts_size, label=f\"({pts_depart[i,0]},{pts_depart[i,1]})\")\n",
    "plt.legend()"
   ]
  },
  {
   "cell_type": "code",
   "execution_count": null,
   "metadata": {
    "tags": []
   },
   "outputs": [],
   "source": [
    "# Zoom sur un cas particulier\n",
    "plt.figure(figsize=(13,6))\n",
    "plt.suptitle(\"Zoom sur le cas (0.75,0)\")\n",
    "\n",
    "ax1 = plt.subplot(131)\n",
    "ax1.set_xlim(0.53,0.58)\n",
    "ax1.set_ylim(0.057,0.073)\n",
    "ax1.scatter(pts_resu[2,0], pts_resu[2,1], c=couleurs, marker=pts_forms[2], s=pts_size)\n",
    "\n",
    "ax2 = plt.subplot(132)\n",
    "ax2.set_xlim(0.535,0.538)\n",
    "ax2.set_ylim(0.07085,0.07145)\n",
    "ax2.tick_params('x',labelrotation=90)\n",
    "ax2.scatter(pts_resu[2,0], pts_resu[2,1], c=couleurs, marker=pts_forms[2], s=pts_size)\n",
    "\n",
    "ax3 = plt.subplot(133)\n",
    "ax3.set_xlim(0.5357,0.5359)\n",
    "ax3.set_ylim(0.0714,0.071405)\n",
    "ax3.tick_params('x',labelrotation=90)\n",
    "ax3.scatter(pts_resu[2,0], pts_resu[2,1], c=couleurs, marker=pts_forms[2], s=pts_size)"
   ]
  },
  {
   "cell_type": "markdown",
   "metadata": {},
   "source": [
    "## Question 6 + Tâche 3\n",
    "\n",
    "> Comment, en partant d'un point de référence $(x_0, y_0)$ tel que $f(x_0, y_0)=c$, peut-on générer avec la méthode de Newton un point $(x_1, y_1)$ également tel que $f(x_1, y_1) = c$, mais à une distance $\\delta > 0$ de $(x_0, y_0)$ et qui soit \"à droite\" quand on est en $(x_0, y_0)$ et qu'on regarde dans la direction de $\\nabla f(x_0, y_0)$ ?  \n",
    "> Implémenter la fonction `level_curve` qui répète ce procédé $N-1$ fois et renvoie un tableau NumPy de taille `(2, N)` contenant les coordonnées des points correspondants, puis valider graphiquement le résultat au moyen des exemples de référence.\n",
    "\n",
    "On part de $(x_{0}, y_{0})$, on se décale selon la tangente à la courbe de niveau vers la droite (donc selon $u = \\frac{1}{\\| \\nabla f(x_{0}) \\|} \\begin{pmatrix} \\partial_2 f(x_{0}) \\\\ -\\partial_1 f(x_{0}) \\end{pmatrix} $) d'un pas $\\delta$, et on applique la méthode de Newton à ce nouveau point, ce qui donne un point sur la ligne de niveau $c$ à une distance d'environ $\\delta$ de $(x_{0}, y_{0})$."
   ]
  },
  {
   "cell_type": "code",
   "execution_count": null,
   "metadata": {
    "tags": []
   },
   "outputs": [],
   "source": [
    "# On implémente d'abord des fonctions renvoyant le vecteur unitaire u, et le vecteur normal à 'droite'\n",
    "def vect_unit(X) :\n",
    "    \"\"\"renvoie le vecteur unitaire de même direction et même sens\"\"\"\n",
    "    return X / (np.linalg.norm(X))\n",
    "\n",
    "def ortho_droit(X) :\n",
    "    \"\"\"renvoie le vecteur normal à X 'à droite'\"\"\"\n",
    "    return np.array([X[1],-X[0]])"
   ]
  },
  {
   "cell_type": "code",
   "execution_count": null,
   "metadata": {},
   "outputs": [],
   "source": [
    "def level_curve(f, x0, y0, delta=0.1, N=1000, eps=eps):\n",
    "    \"\"\"trouve le point 'suivant' sur la courbe de niveau de f = 0, en suivant le vecteur tangent à la courbe d'un pas delta, en partant de (x0,y0)\n",
    "    répète le processus N fois\n",
    "    renvoie un np.array de forme (2,N) contenant les coordonnées des points trouvés\"\"\"\n",
    "    resu = np.empty((2,N))\n",
    "    resu[0,0], resu[1,0] = x0, y0\n",
    "    c = f(x0,y0)\n",
    "    grad_f = grad(f)\n",
    "    for i in range(1,N):\n",
    "        vect_tan = vect_unit(ortho_droit(grad_f(resu[0,i-1], resu[1,i-1])))\n",
    "        Xt = np.array([resu[0,i-1], resu[1,i-1]]) + delta*vect_tan\n",
    "        x0, y0 = Xt[0], Xt[1]\n",
    "        F = transfo(f, c, x0, y0)\n",
    "        resu[0,i], resu[1,i] = Newton(F, x0, y0, eps, 100)\n",
    "    return resu"
   ]
  },
  {
   "cell_type": "code",
   "execution_count": null,
   "metadata": {},
   "outputs": [],
   "source": [
    "# Applications aux exemples de références (On prend N plus petit pour diminuer le temps d'exécution)\n",
    "resu_f1 = level_curve(f1, 0.8, 0.8, 0.1, 100)\n",
    "resu_f2 = level_curve(f2, 1.0, 0., 0.1, 100)\n",
    "resu_f3 = level_curve(f3, 0., 0., 0.1, 125)"
   ]
  },
  {
   "cell_type": "code",
   "execution_count": null,
   "metadata": {},
   "outputs": [],
   "source": [
    "# Affichage\n",
    "fig = plt.figure(figsize=(15,4))\n",
    "\n",
    "ax1 = plt.subplot(131)\n",
    "ax2 = plt.subplot(132)\n",
    "ax3 = plt.subplot(133)\n",
    "\n",
    "ax1.plot(resu_f1[0], resu_f1[1])\n",
    "ax1.axis('equal')\n",
    "ax1.set_title('f1')\n",
    "\n",
    "ax2.plot(resu_f2[0], resu_f2[1])\n",
    "ax2.axis('equal')\n",
    "ax2.set_title('f2')\n",
    "\n",
    "ax3.plot(resu_f3[0], resu_f3[1])\n",
    "ax3.axis('equal')\n",
    "ax3.set_title('f3')"
   ]
  },
  {
   "cell_type": "markdown",
   "metadata": {},
   "source": [
    "## Question 7 + Tâche 4\n",
    "\n",
    "> Proposer une nouvelle implémentation de `level_curve` qui arrête l'algorithme et renvoie les points connus quand le segment formé par les deux derniers points produits intersecte l'un des segments produits auparavant.  \n",
    "> En étant (raisonnablement) optimiste, doit-t-on prendre la peine de tester l'intersection du dernier segment avec tous les segments déjà produits (ce qui prend du temps ...) ou juste avec le premier ?  \n",
    "> Pour répondre à cette question, on pourra se demander si les courbes de niveau similaires à celle de la fonction de Rosenbrock passant par le point $(0.5, 0)$ (cf. Exemples de référence) -- c'est-à-dire \"auto-intersectantes\" -- sont fréquentes ou rares et pourquoi.\n",
    "\n",
    "Le point $(0.5,0)$ a ceci de particulier pour la fonction de Rosenbrock que les deux dérivées partielles s'y annulent.  \n",
    "En effet : $$f_{2}(x_{1}, x_{2}) = (x_{1}-1)^{2} + (x_{1} - x_{2}^{2})^{2}$$\n",
    "Donc : $$\n",
    "    \\begin{align*}\n",
    "        \\partial_{1} f_{2}(x) &= 2~(x_{1}-1) + 2~(x_{1} - x_{2}^{2}) = 2~(2x_{1} - x_{2}^{2} -1) \\\\\n",
    "        \\partial_{2} f_{2}(x) &= -2x_{2} \\cdot 2(x_{1} - x_{2}^{2}) = -4x_{2}~(x_{1} - x_{2}^{2})\n",
    "    \\end{align*}$$ \n",
    "Alors : $$\\begin{align*}\n",
    "\\partial_{1} f_{2}(0.5,0) &= 2~(2\\cdot 0.5 - 0^{2} -1) = 0\\\\\n",
    "\\partial_{2} f_{2}(0.5,0) &= -4\\cdot 0~(0.5 - 0^{2}) = 0\n",
    "\\end{align*}$$\n",
    "Ainsi : $\\nabla f(0.5,0) = 0$.\n",
    "\n",
    "De ce fait, la courbe de niveau s'auto-intersectent.  \n",
    "Néannmoins, ce cas de figure est relativement rare, donc on pourra ne tester l'intersection du dernier segment qu'avec le premier dans la nouvelle implémentation de `level_curve`."
   ]
  },
  {
   "cell_type": "code",
   "execution_count": null,
   "metadata": {},
   "outputs": [],
   "source": [
    "# Implémentation du test d'intersection entre 2 segments\n",
    "def segm_secants(A,B,C,D):\n",
    "    \"\"\"renvoie True si les segments [AB] et [CD] s'intersectent, False sinon\"\"\"\n",
    "    def droiteAB(x):\n",
    "        return A[1] + (B[1]-A[1])*(x-A[0])/(B[0]-A[0])\n",
    "    def droiteCD(x):\n",
    "        return C[1] + (D[1]-C[1])*(x-C[0])/(D[0]-C[0])\n",
    "    testAB = (droiteAB(C[0]) < C[1] and droiteAB(D[0]) > D[1]) or (droiteAB(C[0]) > C[1] and droiteAB(D[0]) < D[1])\n",
    "    testCD = (droiteCD(A[0]) < A[1] and droiteCD(B[0]) > B[1]) or (droiteCD(A[0]) > A[1] and droiteCD(B[0]) < B[1])\n",
    "    if  testAB and testCD :\n",
    "        return True\n",
    "    else :\n",
    "        return False"
   ]
  },
  {
   "cell_type": "code",
   "execution_count": null,
   "metadata": {},
   "outputs": [],
   "source": [
    "# Intégration du test dans level_curve\n",
    "def level_curve_bis(f, x0, y0, delta=0.1, N=1000, eps=eps):\n",
    "    \"\"\"trouve le point 'suivant' sur la courbe de niveau de f = 0, en suivant le vecteur tangent à la courbe d'un pas eps, en partant de (x0,y0)\n",
    "    répète le processus N fois\n",
    "    renvoie un np.array de forme (2,N) contenant les coordonnées des points trouvés\n",
    "    [bis] cette fois, on évite de parcourir une boucle indéfiniment\"\"\"\n",
    "    #resu = [[x0], [y0]]\n",
    "    resu = np.empty((2,N))\n",
    "    resu[0,0], resu[1,0] = x0, y0\n",
    "    c = f(x0,y0)\n",
    "    grad_f = grad(f)\n",
    "    for i in range(1,N):\n",
    "        vect_tan = vect_unit(ortho_droit(grad_f(resu[0][i-1], resu[1][i-1])))\n",
    "        Xt = resu[:, i-1] + delta*vect_tan\n",
    "        x0, y0 = Xt[0], Xt[1]\n",
    "        F = transfo(f, c, x0, y0)\n",
    "        x, y= Newton(F, x0, y0, eps, 100)\n",
    "        if i>1 and segm_secants((resu[0][0],resu[1][0]), (resu[0][1],resu[1][1]), (resu[0][i-1],resu[1][i-1]), (x,y)) :\n",
    "            return resu[:, :i]\n",
    "        else:\n",
    "            resu[0,i] = x\n",
    "            resu[1,i] = y\n",
    "    return resu"
   ]
  },
  {
   "cell_type": "markdown",
   "metadata": {},
   "source": [
    "## Tâche 5\n",
    "\n",
    "> Valider graphiquement le résultat au moyen des exemples de référence."
   ]
  },
  {
   "cell_type": "code",
   "execution_count": null,
   "metadata": {},
   "outputs": [],
   "source": [
    "# Applications aux exemples de références\n",
    "resu_f1 = level_curve_bis(f1, 0.8, 0.8, 0.1, 100)\n",
    "resu_f2 = level_curve_bis(f2, 1.0, 0., 0.1, 100)\n",
    "resu_f3 = level_curve_bis(f3, 0., 0., 0.1, 125)"
   ]
  },
  {
   "cell_type": "code",
   "execution_count": null,
   "metadata": {},
   "outputs": [],
   "source": [
    "# Figures\n",
    "fig = plt.figure(figsize=(15,4))\n",
    "\n",
    "ax1 = plt.subplot(131)\n",
    "ax2 = plt.subplot(132)\n",
    "ax3 = plt.subplot(133)\n",
    "\n",
    "ax1.plot(resu_f1[0], resu_f1[1])\n",
    "ax1.axis('equal')\n",
    "ax1.set_title('f1')\n",
    "\n",
    "ax2.plot(resu_f2[0], resu_f2[1])\n",
    "ax2.axis('equal')\n",
    "ax2.set_title('f2')\n",
    "\n",
    "ax3.plot(resu_f3[0], resu_f3[1])\n",
    "ax3.axis('equal')\n",
    "ax3.set_title('f3')"
   ]
  },
  {
   "cell_type": "markdown",
   "metadata": {
    "tags": []
   },
   "source": [
    "## Question 8\n",
    "\n",
    "> Soit $P_1$ et $P_2$ deux points du plan et $u_1$ et $u_2$ deux vecteurs du plan non nuls.\n",
    "> On cherche à produire un chemin $\\gamma: [0,1] \\to \\mathbb{R}^2$ continûment différentiable, joignant $P_1$ et $P_2$ ($\\gamma(0) = P_1$ et $\\gamma(1) = P_2$), tel que $\\gamma'(0)$ soit dans la même direction et le même sens que $u_1$ et $\\gamma'(1)$ soit dans la même direction et le même sens que $u_2$.\n",
    "> \n",
    "> On recherche une telle solution sous la forme\n",
    "> $\\gamma(t) = (x(t), y(t))$ où \n",
    "> $$ x(t) = a + bt + ct^2 \\; \\mbox{ et } \\; y(t) = d + et + ft^2 $$\n",
    "et les paramètres réels $a, b, c, d, e, f$ sont à déterminer.\n",
    "> \n",
    "> Déterminer les coefficients $a, b, c, d, e, f$ solutions de ce problème quand ils existent.\n",
    "Expliciter si nécessaire les conditions que doivent remplir $P_1$, $P_2$, $u_1$ et $u_2$ pour qu'une solution existe.\n",
    "\n",
    "On note : $\\left\\{\n",
    "    \\begin{align*}\n",
    "        P_{1} = (x_{1},y_{1}) \\\\\n",
    "        P_{2} = (x_{2},y_{2})\n",
    "    \\end{align*} \\right.$ et \n",
    "$\\left\\{\n",
    "    \\begin{align*}\n",
    "        u_{1} = (\\alpha _{1}, \\beta _{1}) \\\\\n",
    "        u_{2} = (\\alpha _{2}, \\beta _{2})\n",
    "    \\end{align*} \\right.$\n",
    "\n",
    "Par hypothèse, avec $\\gamma(t) = \\begin{pmatrix} a+bt+ct^{2} \\\\ d+et+ft^{2} \\end{pmatrix}$, on a :  \n",
    "$\\left\\{\n",
    "    \\begin{align*}\n",
    "        \\gamma(0) &= \\begin{pmatrix} a \\\\ d \\end{pmatrix} = P_{1} = \\begin{pmatrix} x_{1} \\\\ y_{1} \\end{pmatrix}\\\\\n",
    "        \\gamma(1) &= \\begin{pmatrix} a+b+c \\\\ d+e+f \\end{pmatrix} = P_{2} = \\begin{pmatrix} x_{2} \\\\ y_{2} \\end{pmatrix}\n",
    "    \\end{align*} \\right.$ et \n",
    "$\\left\\{\n",
    "    \\begin{align*}\n",
    "        \\gamma'(0) &= \\begin{pmatrix} b \\\\ e \\end{pmatrix} = \\lambda u_{1} = \\lambda \\begin{pmatrix} \\alpha_{1} \\\\ \\beta_{1} \\end{pmatrix} \\\\\n",
    "        \\gamma'(1) &= \\begin{pmatrix} b+2c \\\\ e+2f \\end{pmatrix} = \\mu u_{2} = \\mu \\begin{pmatrix} \\alpha_{2} \\\\ \\beta_{2} \\end{pmatrix}\n",
    "    \\end{align*} \\right.$ où $\\lambda , \\: \\mu \\in \\mathbb{R}_{+}$\n",
    "\n",
    "On obtient le système suivant pour $(b,c,e,f)$ :  \n",
    "$$\\left\\{\n",
    "    \\begin{array}{l}\n",
    "        c+\\lambda \\alpha_{1} = x_{2} - x_{1} \\\\\n",
    "        f+\\lambda \\beta_{1} = y_{2} - y_{1} \\\\\n",
    "        2c + \\lambda \\alpha_{1} - \\mu \\alpha_{2} = 0 \\\\\n",
    "        2f + \\lambda \\beta_{1} - \\mu \\beta_{2} = 0\n",
    "    \\end{array} \\right.$$\n",
    "Soit le système de Cramer suivant :\n",
    "$$\\begin{pmatrix}\n",
    "    1 & 0 & \\alpha_{1} & 0 \\\\\n",
    "    0 & 1 & \\beta_{1} & 0 \\\\\n",
    "    2 & 0 & \\alpha_{1} & -\\alpha_{2} \\\\\n",
    "    0 & 2 & \\beta_{1} & -\\beta_{2}\n",
    "\\end{pmatrix}\n",
    "\\begin{pmatrix}\n",
    "    c \\\\\n",
    "    f \\\\\n",
    "    \\lambda \\\\\n",
    "    \\mu \\\\\n",
    "\\end{pmatrix} =\n",
    "\\begin{pmatrix}\n",
    "    x_{2} - x_{1} \\\\\n",
    "    y_{2} - y_{1} \\\\\n",
    "    0 \\\\\n",
    "    0\n",
    "\\end{pmatrix}\n",
    "\\Leftrightarrow AX=B$$\n",
    "\n",
    "### 1e condition d'existence d'une solution : la matrice $A$ doit être inversible\n",
    "Le déterminant de $A$ vaut : \n",
    "$$det(A) = \\alpha_{1}\\beta_{2} - \\alpha_{2}\\beta_{1} = \\left< u_{1}, v_{2} \\right> \\big( = det(u_{1},u_{2}) \\big)$$\n",
    "où $v_{2} = \\begin{pmatrix} \\beta_{2} \\\\ -\\alpha_{2} \\end{pmatrix}$ est un vecteur orthogonal à \"droite\" à $u_{2}$.  \n",
    "Ainsi, une première condition d'existence de solution est que $det(A) = \\left< u_{1}, v_{2} \\right> \\neq 0$, ie. que __les vecteurs $u_{1}$ et $u_{2}$ ne sont pas colinéaires__.\n",
    "\n",
    "### 2e condition pour que $\\lambda$ et $\\mu$ soient positifs\n",
    "On résout le système de Cramer.\n",
    "$$\\lambda = \\frac{1}{det(A)} \\begin{vmatrix}\n",
    "    1 & 0 & x_{2}-x_{1} & 0 \\\\\n",
    "    0 & 1 & y_{2}-y_{1} & 0 \\\\\n",
    "    2 & 0 & 0 & -\\alpha_{2} \\\\\n",
    "    0 & 2 & 0 & -\\beta_{2} \\end{vmatrix} = 2 \\: \\dfrac{\\beta_{2}(x_{2}-x_{1}) - \\alpha_{2}(y_{2}-y_{1})}{det(A)}$$\n",
    "On obtient en fait :\n",
    "$$\\lambda = \\dfrac{2~det(dX, u_{2})}{det(A)} = \\dfrac{2 \\left< dX, v_{2} \\right>}{det(A)}$$\n",
    "avec $dX = \\overrightarrow{P_{1}P_{2}} = \\begin{pmatrix} x_{2}-x_{1} \\\\ y_{2}-y_{1} \\end{pmatrix}$\n",
    "\n",
    "De même,\n",
    "$$\\mu = \\dfrac{-2~det(dX, u_{1})}{det(A)} = \\dfrac{-2 \\left< dX, v_{1} \\right>}{det(A)}$$\n",
    "où  $v_{2} = \\begin{pmatrix} \\beta_{1} \\\\ -\\alpha_{1} \\end{pmatrix}$\n",
    "\n",
    "Ainsi, la seconde condition d'existence d'une solution à notre problème est que __$\\left< u_{1}, v_{2} \\right>$, $-\\left< dX, v_{1} \\right>$ et $\\left< dX, v_{2} \\right>$ sont de même signe__.  \n",
    "\n",
    "Cela signifie géométriquement que les vecteurs $u_{1}$ et $u_{2}$, respectivement appliqués à $P_{1}$ et $P_{2}$, doivent se situer de part et d'autre de la droite engendrée par le segment $[P_{1}P_{2}]$, mais aussi que le vecteur $u_{1}$ se trouve dans le quart de plan engendré par les vecteurs $dX$ et $-u_{2}$, et réciproquement (voir illustrations en Python ci-dessous)."
   ]
  },
  {
   "cell_type": "markdown",
   "metadata": {
    "tags": []
   },
   "source": [
    "On obtient in fine :  \n",
    "$$\\begin{array}{l:l:l}\n",
    "    a = x_{1} & b = 2\\alpha_{1}\\frac{\\left< dX, v_{2}\\right>}{\\left< u_{1}, v_{2}\\right>} & c = x_{2} - x_{1} - 2\\alpha_{1}\\frac{\\left< dX, v_{2}\\right>}{\\left< u_{1}, v_{2}\\right>}\\\\\n",
    "    d = y_{1} & e = 2\\beta_{1}\\frac{\\left< dX, v_{2}\\right>}{\\left< u_{1}, v_{2}\\right>} & f = y_{2} - y_{1} - 2\\beta_{1}\\frac{\\left< dX, v_{2}\\right>}{\\left< u_{1}, v_{2}\\right>}\n",
    "\\end{array}$$\n",
    "\n",
    "Avec la condition d'existence d'une solution (unique, car système de Cramer) de la forme que l'on souhaite (ie. $\\lambda, \\mu \\in \\mathbb{R}_{+}$) :\n",
    "\n",
    "$$\\left< u_{1}, v_{2}\\right> \\neq 0 \\quad \\text{et}\\quad \\left< u_{1}, v_{2}\\right>, -\\left< dX, v_{1}\\right>, \\left< dX, v_{2}\\right> \\text{ sont de même signe.}$$"
   ]
  },
  {
   "cell_type": "code",
   "execution_count": null,
   "metadata": {
    "tags": []
   },
   "outputs": [],
   "source": [
    "# Illustration\n",
    "fig = plt.figure(figsize=(15,5))\n",
    "axe1 = plt.subplot(121)\n",
    "axe2 = plt.subplot(122)\n",
    "plt.suptitle(\"Zones possibles pour les vecteurs $u_{1}$ (bleu) et $u_{2}$ (vert)\")\n",
    "\n",
    "axe1.add_artist(mpl.patches.Rectangle((-5, -4), 6, 4, color = 'lightblue', fill=True))\n",
    "axe1.add_artist(mpl.patches.Rectangle((-1, 0), 6, 4, color = 'lightgreen', fill=True))\n",
    "axe1.add_artist(mpl.lines.Line2D((-5,5),(0,0), color='black'))\n",
    "axe1.add_artist(mpl.lines.Line2D((-1,-1),(0,4), color='black'))\n",
    "axe1.add_artist(mpl.lines.Line2D((1,1),(-4,0), color='black'))\n",
    "axe1.add_artist(mpl.lines.Line2D((-1, 1), (0, 0), color='orange', linewidth=5))\n",
    "axe1.add_artist(mpl.lines.Line2D((-5,-1),(-4,0), linestyle='--'))\n",
    "axe1.add_artist(mpl.lines.Line2D((-1,1),(2,0), linestyle='--', color='darkred'))\n",
    "axe1.add_artist(mpl.patches.Arrow(-1,0,1,-1, width=0.5, color='darkred'))\n",
    "axe1.add_artist(mpl.patches.Arrow(1,0,1,1, width=0.5))\n",
    "axe1.set_title(\"$<u_{1},v_{2}>$ > 0\")\n",
    "axe1.text(-1.5, 0.2, \"$P_{1}$\")\n",
    "axe1.text(1.1,-0.5, \"$P_{2}$\")\n",
    "axe1.set_xlim(-5,5)\n",
    "axe1.set_ylim(-4,4)\n",
    "\n",
    "axe2.add_artist(mpl.patches.Rectangle((-5, 0), 6, 4, color = 'lightblue', fill=True))\n",
    "axe2.add_artist(mpl.patches.Rectangle((-1, -4), 6, 4, color = 'lightgreen', fill=True))\n",
    "axe2.add_artist(mpl.lines.Line2D((-5,5),(0,0), color='black'))\n",
    "axe2.add_artist(mpl.lines.Line2D((-1,-1),(-4,0), color='black'))\n",
    "axe2.add_artist(mpl.lines.Line2D((1,1),(0,4), color='black'))\n",
    "axe2.add_artist(mpl.lines.Line2D((-1, 1), (0, 0), color='orange', linewidth=5))\n",
    "axe2.add_artist(mpl.lines.Line2D((-5,-1),(4,0), linestyle='--'))\n",
    "axe2.add_artist(mpl.lines.Line2D((-1,1),(-2,0), linestyle='--', color='darkred'))\n",
    "axe2.add_artist(mpl.patches.Arrow(-1,0,1,1, width=0.5, color='darkred'))\n",
    "axe2.add_artist(mpl.patches.Arrow(1,0,1,-1, width=0.5))\n",
    "axe2.set_title(\"$<u_{1},v_{2}>$ < 0\")\n",
    "axe2.text(-1.5, -0.5, \"$P_{1}$\")\n",
    "axe2.text(1.1,0.2, \"$P_{2}$\")\n",
    "axe2.set_xlim(-5,5)\n",
    "axe2.set_ylim(-4,4)"
   ]
  },
  {
   "cell_type": "markdown",
   "metadata": {},
   "source": [
    "## Tâche 6\n",
    "\n",
    "> Implémenter la solution sous la forme d'une fonction `gamma` dont les arguments sont `t`, `P1`, `P2`, `u1` et `u2` et qui renvoie le ou les points $\\gamma(t)$ associés. Lorsqu'il n'existe pas de chemin de la forme souhaitée pour les paramètres `P1`, `P2`, `u1` et `u2`, on utilisera comment remplacement de $\\gamma$ un chemin rectiligne interpolant linéairement les points $P_1$ et $P_2$.\n",
    "> \n",
    "> Pour des raisons de performance, on vectorisera cette fonction par rapport à `t` : \n",
    ">\n",
    ">  - en acceptant comme argument `t` des tableaux NumPy (monodimensionels) de nombres flottants et en renvoyant alors un tableau de taille `(2, len(t))` flottants décrivant l'abscisse et l'ordonnée des `len(t)` points $\\gamma(t)$ correspondant,\n",
    ">\n",
    ">  - en appliquant directement opérateurs et fonctions mathématiques aux tableaux NumPy, sans utiliser de boucle `for`,\n",
    ">  \n",
    "> On validera ensuite graphiquement l'implémentation sur un exemple où l'on représentera les point $P_1$ et $P_2$, les tangentes associées et le chemin $\\gamma$ correspondant."
   ]
  },
  {
   "cell_type": "code",
   "execution_count": null,
   "metadata": {
    "tags": []
   },
   "outputs": [],
   "source": [
    "# Implémentation de gamma, compatible avec t sous la forme d'un np.array\n",
    "def gamma(t,P1,P2,u1,u2):\n",
    "    resu = np.empty((2,len(t)))\n",
    "    p1, p2 = P1.reshape((2,1)), P2.reshape((2,1))\n",
    "    delta = P2 - P1\n",
    "    v1 = ortho_droit(u1)\n",
    "    v2 = ortho_droit(u2)\n",
    "    det = u1.dot(v2)\n",
    "    det_mu = -v1.dot(delta)\n",
    "    det_lam = v2.dot(delta)\n",
    "    if np.abs(det) <= 10**(-10) or (det_mu*det)<0 or (det_lam*det)<0 :\n",
    "        resu = (1-t)*p1 + t*p2\n",
    "    else :\n",
    "        b = 2*(det_lam/det)*u1.reshape((2,1))\n",
    "        c = p2 - p1 - 2*(det_lam/det)*u1.reshape((2,1))\n",
    "        resu = p1 + b*t + c*(t**2)\n",
    "    return resu"
   ]
  },
  {
   "cell_type": "code",
   "execution_count": null,
   "metadata": {},
   "outputs": [],
   "source": [
    "# Initialisation des données\n",
    "t = np.linspace(0,1,11)\n",
    "P1 = np.array([0.,0.])\n",
    "P2 = np.array([5.,5.])\n",
    "u1 = np.array([0.,1.])\n",
    "u2 = np.array([1.,0.])\n",
    "interpol = gamma(t,P1,P2,u1,u2)\n",
    "\n",
    "# Affichage\n",
    "fig = plt.figure()\n",
    "plt.suptitle(\"Interpolation\")\n",
    "ax1 = plt.subplot(111)\n",
    "ax1.quiver([P1[0],P2[0]],[P1[1],P2[1]],[u1[0],u2[0]],[u1[1],u2[1]], angles='xy', scale_units='xy', scale=1)\n",
    "ax1.plot(P1[0],P1[1],marker='x', markersize=10, mew=5)\n",
    "ax1.plot(P2[0],P2[1],marker='x', markersize=10, mew=5)\n",
    "ax1.plot(interpol[0],interpol[1],color='darkred')\n",
    "ax1.axis([-0.5,6.5, -0.5,5.5])"
   ]
  },
  {
   "cell_type": "code",
   "execution_count": null,
   "metadata": {},
   "outputs": [],
   "source": [
    "# 2e figure\n",
    "P1 = np.array([0.,0.])\n",
    "P2 = np.array([5.,0.])\n",
    "u1 = np.array([1.,-1.])\n",
    "u2 = np.array([1.,1.])\n",
    "interpol = gamma(t,P1,P2,u1,u2)\n",
    "\n",
    "fig = plt.figure()\n",
    "plt.suptitle(\"Interpolation\")\n",
    "ax1 = plt.subplot(111)\n",
    "ax1.quiver([P1[0],P2[0]],[P1[1],P2[1]],[u1[0],u2[0]],[u1[1],u2[1]], angles='xy', scale_units='xy', scale=1)\n",
    "ax1.plot(P1[0],P1[1],marker='x', markersize=10, mew=5)\n",
    "ax1.plot(P2[0],P2[1],marker='x', markersize=10, mew=5)\n",
    "ax1.plot(interpol[0],interpol[1],color='darkred')\n",
    "ax1.axis([-0.5,6.5, -1.3,1.])"
   ]
  },
  {
   "cell_type": "markdown",
   "metadata": {},
   "source": [
    "## Tâche 7\n",
    "> Intégrer le mécanisme d'interpolation dans (une nouvelle version de) la fonction `level_curve` qui accepte un nouveau paramètre entier `oversampling` (sur-échantillonnage) tel que :\n",
    "> \n",
    ">  - si `oversampling == 1`, la fonction `level_curve` fonctionne comme précédemment,\n",
    ">\n",
    ">  - si `oversampling > 1`, la fonction `level_curve` introduit dans son résultat `oversampling - 1` points supplémentaires obtenus par interpolations entre chaque couple de points consécutifs obtenus par la méthode de Newton."
   ]
  },
  {
   "cell_type": "code",
   "execution_count": null,
   "metadata": {},
   "outputs": [],
   "source": [
    "# Intégration de la fonction gamma dans level_curve, avec introduction du paramètre oversampling\n",
    "def level_curve_ter(f, x0, y0, oversampling=1, delta=0.1, N=1000, eps=eps):\n",
    "    \"\"\"trouve le point 'suivant' sur la courbe de niveau de f = 0, en suivant le vecteur tangent à la courbe d'un pas eps, en partant de (x0,y0)\n",
    "    répète le processus N fois\n",
    "    renvoie un np.array de forme (2,N) contenant les coordonnées des points trouvés\n",
    "    [bis] cette fois, on évite de parcourir une boucle indéfiniment\n",
    "    [ter] on incorpore l'interpolation obtenue précédemment\"\"\"\n",
    "    resu = np.empty((2,(N-1)*oversampling+1))\n",
    "    resu[0,0], resu[1,0] = x0, y0\n",
    "    c = f(x0,y0)\n",
    "    grad_f = grad(f)\n",
    "    if oversampling > 1 : t = np.linspace(0,1,oversampling+1)\n",
    "    for i in range(1,N):\n",
    "        vect_tan = vect_unit(ortho_droit(grad_f(resu[0,i-1], resu[1,i-1])))\n",
    "        Xt = resu[:,i-1] + delta*vect_tan\n",
    "        x0, y0 = Xt[0], Xt[1]\n",
    "        F = transfo(f, c, x0, y0)\n",
    "        x, y= Newton(F, x0, y0, eps, 100)\n",
    "        if i>1 and segm_secants((resu[0,0],resu[1,0]), (resu[0,1],resu[1,1]), (resu[0,i-1],resu[1,i-1]), (x,y)) :\n",
    "            return resu[:,:i]\n",
    "        elif oversampling == 1 :\n",
    "            resu[0,i] = x\n",
    "            resu[1,i] = y\n",
    "        else :\n",
    "            interpol = gamma(t, resu[:, i-1], np.array([x,y]), vect_tan, vect_unit(ortho_droit(grad_f(x,y))))\n",
    "            resu[:, i:(i+oversampling)] = interpol[:, 1:]\n",
    "    return resu"
   ]
  },
  {
   "cell_type": "markdown",
   "metadata": {},
   "source": [
    "## Tâche 8\n",
    "\n",
    "> Valider graphiquement le résultat au moyen des exemples de référence."
   ]
  },
  {
   "cell_type": "code",
   "execution_count": null,
   "metadata": {},
   "outputs": [],
   "source": [
    "# Applications aux exemples de références\n",
    "resu_f1 = level_curve_ter(f1, 0.8, 0.8, 3)\n",
    "resu_f2 = level_curve_ter(f2, 1.0, 0., 3)\n",
    "resu_f3 = level_curve_ter(f3, 0., 0., 3)"
   ]
  },
  {
   "cell_type": "code",
   "execution_count": null,
   "metadata": {
    "scrolled": true
   },
   "outputs": [],
   "source": [
    "# Figures\n",
    "fig = plt.figure(figsize=(15,4))\n",
    "\n",
    "ax1 = plt.subplot(131)\n",
    "ax2 = plt.subplot(132)\n",
    "ax3 = plt.subplot(133)\n",
    "\n",
    "ax1.plot(resu_f1[0], resu_f1[1])\n",
    "ax1.axis('equal')\n",
    "ax1.set_title('f1')\n",
    "\n",
    "ax2.plot(resu_f2[0], resu_f2[1])\n",
    "ax2.axis('equal')\n",
    "ax2.set_title('f2')\n",
    "\n",
    "ax3.plot(resu_f3[0], resu_f3[1])\n",
    "ax3.axis('equal')\n",
    "ax3.set_title('f3')"
   ]
  },
  {
   "cell_type": "code",
   "execution_count": null,
   "metadata": {},
   "outputs": [],
   "source": [
    "# Autre figure de quelques courbes de niveau de f3\n",
    "n = 3\n",
    "pts_depart = np.concatenate((np.array(n*[2]).reshape(1,n), np.linspace(-1,-0.5,n).reshape(1,n)))\n",
    "plt.title(\"f3\")\n",
    "plt.axis('equal')\n",
    "for i in range(n):\n",
    "    resu = level_curve_ter(f3, pts_depart[0,i], pts_depart[1,i], 2)\n",
    "    plt.plot(resu[0],resu[1])"
   ]
  }
 ],
 "metadata": {
  "kernelspec": {
   "display_name": "Python 3",
   "language": "python",
   "name": "python3"
  },
  "language_info": {
   "codemirror_mode": {
    "name": "ipython",
    "version": 3
   },
   "file_extension": ".py",
   "mimetype": "text/x-python",
   "name": "python",
   "nbconvert_exporter": "python",
   "pygments_lexer": "ipython3",
   "version": "3.8.3"
  }
 },
 "nbformat": 4,
 "nbformat_minor": 2
}
